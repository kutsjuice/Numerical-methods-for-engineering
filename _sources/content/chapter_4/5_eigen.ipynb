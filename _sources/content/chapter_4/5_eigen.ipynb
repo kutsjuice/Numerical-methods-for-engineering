{
 "cells": [
  {
   "cell_type": "markdown",
   "metadata": {},
   "source": [
    "# Спектральное разложение\n",
    "Спектральным разложением называют разложение вида\n",
    "\n",
    "$$\n",
    "\\label{eq_eigen} \\tag{1}\n",
    "\\mathbf{A} = \\mathbf{V}\\mathbf{\\Lambda}\\mathbf{V}^{-1}\n",
    "$$\n",
    "\n",
    "Уравнение $\\eqref{eq_eigen}$ возникает из задачи поиска собственных значений, которая формулируется в следующем виде:\n",
    "\n",
    "> **Задача:**\n",
    ">\n",
    "> Найти все такие такие вектора $\\mathbf{v}$, который не меняют своего направления при воздействии на них матрицей $\\mathbf{A}$.\n",
    "\n",
    "Математически эта задача может быть сформулирована в следующем виде:\n",
    "\n",
    "$$\n",
    "\\label{eq_eigen_problem} \\tag{2}\n",
    "\\mathbf{Av} = \\lambda \\mathbf{v},\n",
    "$$\n",
    "\n",
    "где $\\lambda$ - некоторая константа. Стоит заметить, что при $\\mathbf{v}=0$ уравнение $\\eqref{eq_eigen_problem}$ выполняется при абсолютно любых значениях $\\lambda$, поэтому нас интересует решения $\\eqref{eq_eigen_problem}$ при $\\mathbf{v}\\neq0$\n"
   ]
  },
  {
   "cell_type": "markdown",
   "metadata": {},
   "source": [
    "## Обобщенный алгоритм Якоби"
   ]
  },
  {
   "cell_type": "markdown",
   "metadata": {},
   "source": [
    "## QR-алгоритм"
   ]
  },
  {
   "cell_type": "markdown",
   "metadata": {},
   "source": [
    "## Неполное спектральное разложение"
   ]
  },
  {
   "cell_type": "code",
   "execution_count": null,
   "metadata": {},
   "outputs": [],
   "source": []
  }
 ],
 "metadata": {
  "kernelspec": {
   "display_name": "Python 3 (ipykernel)",
   "language": "python",
   "name": "python3"
  },
  "language_info": {
   "codemirror_mode": {
    "name": "ipython",
    "version": 3
   },
   "file_extension": ".py",
   "mimetype": "text/x-python",
   "name": "python",
   "nbconvert_exporter": "python",
   "pygments_lexer": "ipython3",
   "version": "3.11.5"
  }
 },
 "nbformat": 4,
 "nbformat_minor": 4
}
