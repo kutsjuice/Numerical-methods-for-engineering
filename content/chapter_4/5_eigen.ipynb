{
 "cells": [
  {
   "cell_type": "markdown",
   "metadata": {},
   "source": [
    "# Спектральное разложение\n",
    "Спектральным разложением называют разложение вида\n",
    "```{math}\n",
    ":label: eq_eigen\n",
    "\\mathbf{A} = \\mathbf{V}\\mathbf{\\Lambda}\\mathbf{V}^{-1}\n",
    "```\n",
    "\n",
    "Уравнение {eq}`eq_eigen` возникает из задачи поиска собственных значений, которая формулируется в следующем виде:\n",
    "\n",
    "```{topic} Задача:\n",
    "Найти все такие такие вектора $\\mathbf{v}$, который не меняют своего направления при воздействии на них матрицей $\\mathbf{A}$.\n",
    "```\n",
    "Математически эта задача может быть сформулирована в следующем виде:\n",
    "```{math}\n",
    ":label: eq_eigen_problem\n",
    "\\mathbf{Av} = \\lambda \\mathbf{v},\n",
    "``` \n",
    "\n",
    "$$\n",
    "\\label{eq_eigen_problem} \\tag{1}\n",
    "\\mathbf{Av} = \\lambda \\mathbf{v},\n",
    "$$\n",
    "$\\eqref{eq_eigen_problem}$\n",
    "где $\\lambda$ - некоторая константа. Стоит заметить, что при $\\mathbf{v}=0$ уравнение {eq}`eq_eigen_problem` выполняется при абсолютно любых значениях $\\lambda$, поэтому нас интересует решения {eq}`eq_eigen_problem` при $\\mathbf{v}\\neq0$\n"
   ]
  },
  {
   "cell_type": "markdown",
   "metadata": {},
   "source": [
    "## Обобщенный алгоритм Якоби"
   ]
  },
  {
   "cell_type": "markdown",
   "metadata": {},
   "source": [
    "## QR-алгоритм"
   ]
  },
  {
   "cell_type": "markdown",
   "metadata": {},
   "source": [
    "## Неполное спектральное разложение"
   ]
  },
  {
   "cell_type": "code",
   "execution_count": null,
   "metadata": {},
   "outputs": [],
   "source": []
  }
 ],
 "metadata": {
  "language_info": {
   "name": "python"
  }
 },
 "nbformat": 4,
 "nbformat_minor": 2
}
