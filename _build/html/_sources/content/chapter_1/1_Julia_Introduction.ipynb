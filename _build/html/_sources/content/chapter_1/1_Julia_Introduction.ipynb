{
 "cells": [
  {
   "cell_type": "markdown",
   "id": "77398c21",
   "metadata": {
    "tags": []
   },
   "source": [
    "# Вывод на печать\n"
   ]
  },
  {
   "cell_type": "markdown",
   "id": "ef1aeb8e",
   "metadata": {},
   "source": [
    "Для вывода на печать имеются две функции \n",
    "```println()``` и ```print()```."
   ]
  },
  {
   "cell_type": "code",
   "execution_count": null,
   "id": "99932305",
   "metadata": {},
   "outputs": [],
   "source": [
    "println(\"Привет, Мир!\");\n",
    "println(\"Привет, Мир!\");"
   ]
  },
  {
   "cell_type": "code",
   "execution_count": null,
   "id": "c05f2ce2",
   "metadata": {},
   "outputs": [],
   "source": [
    "print(\"Привет, Мир!\");\n",
    "print(\"Привет, Мир!\");"
   ]
  },
  {
   "cell_type": "markdown",
   "id": "ad2df3ec",
   "metadata": {},
   "source": [
    "Перенос строки можно сделать и вручную, путем добавления символа переноса каретки ```\\n```"
   ]
  },
  {
   "cell_type": "code",
   "execution_count": null,
   "id": "2c10d0d5",
   "metadata": {},
   "outputs": [],
   "source": [
    "print(\"Привет, Мир!\\n\");\n",
    "print(\"Привет, Мир!\");"
   ]
  },
  {
   "cell_type": "markdown",
   "id": "ab5ba4b9",
   "metadata": {
    "tags": []
   },
   "source": [
    "# Объявление переменных"
   ]
  },
  {
   "cell_type": "markdown",
   "id": "c5a009e7",
   "metadata": {},
   "source": [
    "В **Julia** приминяется динамическая типизация, поэтому нет необходимости объявлять типы переменных. Все что нужно - дать переменной имя и присвоть значение при помощи операции присваивания (знак ```=```)"
   ]
  },
  {
   "cell_type": "code",
   "execution_count": null,
   "id": "4317cb55",
   "metadata": {},
   "outputs": [],
   "source": [
    "answer_on_THE_question = 42;\n",
    "typeof(answer_on_THE_question)"
   ]
  },
  {
   "cell_type": "markdown",
   "id": "d9378e97",
   "metadata": {},
   "source": [
    "В **Julia** встроенная поддержка Unicode, поэтому можно использовать символы не только на латинице"
   ]
  },
  {
   "cell_type": "code",
   "execution_count": null,
   "id": "4bf2020f",
   "metadata": {},
   "outputs": [],
   "source": [
    "число_пи = 3.14159265;\n",
    "typeof(число_пи)"
   ]
  },
  {
   "cell_type": "code",
   "execution_count": null,
   "id": "246e7faa",
   "metadata": {},
   "outputs": [],
   "source": [
    "Այբուբենը = \"Алфавит\""
   ]
  },
  {
   "cell_type": "markdown",
   "id": "30de06cb",
   "metadata": {},
   "source": [
    "И даже больше - в Unicode определены не только символы Алфавита"
   ]
  },
  {
   "cell_type": "code",
   "execution_count": null,
   "id": "0fc81729",
   "metadata": {},
   "outputs": [],
   "source": [
    "😸 = \"Кот Фёдор\";\n",
    "typeof(😸)"
   ]
  },
  {
   "cell_type": "markdown",
   "id": "7ddfdce8",
   "metadata": {},
   "source": [
    "В ```Julia``` доступна автозамена по клавише ```<tab>```. Для этого необходимо ввести название Unicode символа и нажать ```<tab>```\n",
    "Также работает режим подсказки - необходимо начать вводить название переменной, после чего нажать ```<tab>``` и появится список переменных.\n",
    "Подсказка работает и со смайликами: достаточно начать вводить ```\\:smi``` и нажать ```<tab>``` и появится список с доступными символами-смайликами."
   ]
  },
  {
   "cell_type": "code",
   "execution_count": null,
   "id": "79b630a3",
   "metadata": {},
   "outputs": [],
   "source": []
  },
  {
   "cell_type": "markdown",
   "id": "76dcf11e",
   "metadata": {},
   "source": [
    " После объявления переменной мы можем переопределить переменную с другим типом"
   ]
  },
  {
   "cell_type": "code",
   "execution_count": null,
   "id": "a3931ff8",
   "metadata": {},
   "outputs": [],
   "source": [
    "😸 = 1;\n",
    "typeof(😸)"
   ]
  },
  {
   "cell_type": "markdown",
   "id": "c44d8512",
   "metadata": {},
   "source": [
    "**Julia** позволяет писать супер-интуитивно-понятный код, примером чего является 😸. Это позволяет писать код вроде такого:"
   ]
  },
  {
   "cell_type": "code",
   "execution_count": null,
   "id": "a4afc4e4",
   "metadata": {},
   "outputs": [],
   "source": [
    "😞 = -1;"
   ]
  },
  {
   "cell_type": "code",
   "execution_count": null,
   "id": "b36979f8",
   "metadata": {},
   "outputs": [],
   "source": [
    "😄 = 0;"
   ]
  },
  {
   "cell_type": "code",
   "execution_count": null,
   "id": "89c1cdcf",
   "metadata": {},
   "outputs": [],
   "source": [
    "😞 + 😸 == 😄"
   ]
  },
  {
   "cell_type": "markdown",
   "id": "3ff0e853",
   "metadata": {},
   "source": [
    "# Комментирование кода"
   ]
  },
  {
   "cell_type": "code",
   "execution_count": null,
   "id": "a24c893b",
   "metadata": {},
   "outputs": [],
   "source": [
    "# это однострочный комментарий\n"
   ]
  },
  {
   "cell_type": "code",
   "execution_count": null,
   "id": "77874b97",
   "metadata": {},
   "outputs": [],
   "source": [
    "#=\n",
    "\n",
    "Это многострочный\n",
    "комментарий\n",
    "\n",
    "=#"
   ]
  },
  {
   "cell_type": "markdown",
   "id": "436db5fb",
   "metadata": {},
   "source": [
    "# Базовые математические операции"
   ]
  },
  {
   "cell_type": "code",
   "execution_count": null,
   "id": "f83cd39e",
   "metadata": {},
   "outputs": [],
   "source": [
    "sum = 3 + 7"
   ]
  },
  {
   "cell_type": "code",
   "execution_count": null,
   "id": "2be30afb",
   "metadata": {},
   "outputs": [],
   "source": [
    "dif = 3 - 7"
   ]
  },
  {
   "cell_type": "code",
   "execution_count": null,
   "id": "2f4a08d8",
   "metadata": {},
   "outputs": [],
   "source": [
    "mul = 20 * 2"
   ]
  },
  {
   "cell_type": "code",
   "execution_count": null,
   "id": "cf42a1a5",
   "metadata": {},
   "outputs": [],
   "source": [
    "div = 9/3"
   ]
  },
  {
   "cell_type": "code",
   "execution_count": null,
   "id": "df63a539",
   "metadata": {},
   "outputs": [],
   "source": [
    "pow = -2^7"
   ]
  },
  {
   "cell_type": "code",
   "execution_count": null,
   "id": "52daba28",
   "metadata": {},
   "outputs": [],
   "source": [
    "mod = 17 % 5"
   ]
  },
  {
   "cell_type": "markdown",
   "id": "a4d7e5b3",
   "metadata": {},
   "source": [
    "# Преобразование типов"
   ]
  },
  {
   "cell_type": "code",
   "execution_count": null,
   "id": "4ba3a0cf",
   "metadata": {},
   "outputs": [],
   "source": [
    "a = 3.0\n",
    "b = Integer(a)\n",
    "typeof(b)"
   ]
  },
  {
   "cell_type": "code",
   "execution_count": null,
   "id": "be56723a",
   "metadata": {},
   "outputs": [],
   "source": [
    "b = convert(Integer, a)\n",
    "typeof(b)"
   ]
  },
  {
   "cell_type": "code",
   "execution_count": null,
   "id": "b21ba92e",
   "metadata": {},
   "outputs": [],
   "source": [
    "three = \"3\"\n",
    "convert(Int64, three)"
   ]
  },
  {
   "cell_type": "code",
   "execution_count": null,
   "id": "c62e66be",
   "metadata": {},
   "outputs": [],
   "source": [
    "parse(Int64, three)"
   ]
  },
  {
   "cell_type": "markdown",
   "id": "10b0e787",
   "metadata": {},
   "source": [
    "# Справка"
   ]
  },
  {
   "cell_type": "markdown",
   "id": "eacbda2e",
   "metadata": {},
   "source": [
    "В **Julia** справка к функциям и модулям доступна при помощи ```?```"
   ]
  },
  {
   "cell_type": "code",
   "execution_count": 1,
   "id": "3d9f8138",
   "metadata": {},
   "outputs": [
    {
     "ename": "ErrorException",
     "evalue": "syntax: invalid identifier name \"?\"",
     "output_type": "error",
     "traceback": [
      "syntax: invalid identifier name \"?\"\n",
      "\n",
      "Stacktrace:\n",
      " [1] top-level scope\n",
      "   @ d:\\github_proj\\Numerical-methods-for-engineering\\content\\chapter_1\\1_Julia_Introduction.ipynb:1"
     ]
    }
   ],
   "source": [
    "? /"
   ]
  },
  {
   "cell_type": "markdown",
   "id": "33dedf72",
   "metadata": {},
   "source": [
    "# Упражнение 1.\n",
    "Объявите переменную ```days``` и присвойте ей значение 365. Конвертируйте значение ```days``` в тип с плавющей точкой и присвойте его значение переменное ```days_float```"
   ]
  },
  {
   "cell_type": "code",
   "execution_count": null,
   "id": "4b32647a",
   "metadata": {},
   "outputs": [],
   "source": [
    "days = 365\n",
    "days_float = Float64(days)"
   ]
  },
  {
   "cell_type": "code",
   "execution_count": null,
   "id": "47cc97a1",
   "metadata": {},
   "outputs": [],
   "source": [
    "@assert days == 365\n",
    "@assert days_float == 365.0"
   ]
  },
  {
   "cell_type": "markdown",
   "id": "6c6ac0e0",
   "metadata": {},
   "source": [
    "# Упражнение 1.\n",
    "Определите $cos$ угла $\\alpha = 30 ^\\circ$"
   ]
  },
  {
   "cell_type": "code",
   "execution_count": null,
   "id": "3651742b",
   "metadata": {},
   "outputs": [],
   "source": [
    "α = 30\n",
    "cosd(α)"
   ]
  }
 ],
 "metadata": {
  "kernelspec": {
   "display_name": "py311",
   "language": "python",
   "name": "python3"
  },
  "language_info": {
   "file_extension": ".jl",
   "mimetype": "application/julia",
   "name": "python",
   "version": "3.11.5"
  }
 },
 "nbformat": 4,
 "nbformat_minor": 5
}
