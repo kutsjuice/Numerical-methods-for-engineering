{
 "cells": [
  {
   "cell_type": "markdown",
   "metadata": {},
   "source": [
    "# Структуры данных\n",
    "\n",
    "Работая с большим количеством одинаковых данных их удобно хранить в структурированном виде, что позволяет обращатся к ним систематизированно<br>\n",
    "\n",
    "**Julia** поддерживает следующие структуры данных:\n",
    "1. Кортежи (Tuples)\n",
    "2. Словари (Dictionaries)\n",
    "3. Массивы (Arrays)\n",
    "\n",
    "<br>\n",
    "Коротко их можно охарактеризовать следующим образом - массивы и кортежи являются упорядаченными структурами (доступ к элементам можно получить по их номеру), словари и массивы - редактируемые структуры."
   ]
  },
  {
   "cell_type": "markdown",
   "metadata": {},
   "source": [
    "## Кортежи\n",
    "\n",
    "Мы можем создать кортеж путем помещения упорядоченой коллекции элементов в круглые скобки `( )`.\n",
    "\n",
    "Синтаксис: <br>\n",
    "```julia\n",
    "(элемент1, элемент2, ...)\n",
    "```\n"
   ]
  },
  {
   "cell_type": "code",
   "execution_count": null,
   "metadata": {},
   "outputs": [],
   "source": [
    "myfavoriteanimals = (\"Пингвины\", \"Коты\", \"Сахарные летяги\")"
   ]
  },
  {
   "cell_type": "markdown",
   "metadata": {},
   "source": [
    "Доступ к элемента осуществляется по их индексу,"
   ]
  },
  {
   "cell_type": "code",
   "execution_count": null,
   "metadata": {},
   "outputs": [],
   "source": [
    "myfavoriteanimals[1]"
   ]
  },
  {
   "cell_type": "markdown",
   "metadata": {},
   "source": [
    "но поскольку кортежи нередактируемые, мы не можем изменить их элементы"
   ]
  },
  {
   "cell_type": "code",
   "execution_count": null,
   "metadata": {},
   "outputs": [],
   "source": [
    "myfavoriteanimals[1] = \"Вомбаты\""
   ]
  },
  {
   "cell_type": "markdown",
   "metadata": {},
   "source": [
    "##  Именнованные кортежи\n",
    "\n",
    "Начиная с версии 1.6 **Julia** поддерживает именнованные массивы, в которых каждый элемент кроме номера также имеет свое имя. Для добавления имени необходимо использовать `=` внутри кортежа:\n",
    "\n",
    "```julia\n",
    "(name1 = item1, name2 = item2, ...)\n",
    "```"
   ]
  },
  {
   "cell_type": "code",
   "execution_count": null,
   "metadata": {},
   "outputs": [],
   "source": [
    "myfavoriteanimals_1 = (bird = \"Пингвины\", mammal = \"Коты\", marsupial = \"Сахарные летяги\")"
   ]
  },
  {
   "cell_type": "markdown",
   "metadata": {},
   "source": [
    "Как и обычные кортежи, именнованные кортежи позволяют обращатся к элементам по номеру:"
   ]
  },
  {
   "cell_type": "code",
   "execution_count": null,
   "metadata": {},
   "outputs": [],
   "source": [
    "myfavoriteanimals_1[1]"
   ]
  },
  {
   "cell_type": "markdown",
   "metadata": {},
   "source": [
    "Но так же к ним можно образатся по имени:"
   ]
  },
  {
   "cell_type": "code",
   "execution_count": null,
   "metadata": {},
   "outputs": [],
   "source": [
    "myfavoriteanimals_1.bird"
   ]
  },
  {
   "cell_type": "markdown",
   "metadata": {},
   "source": [
    "## Словари\n",
    "\n",
    "Для хранения набора парных данных удобно использовать словари. Для создания словаря необходимо использовать функцию `Dict()`.\n",
    "\n",
    "Синтаксис:\n",
    "```julia\n",
    "Dict(ключ1 => значение1, ключ2 => значение2, ...)\n",
    "```\n",
    "\n",
    "Хороший пример - записная книжка, где каждому имени соответствует номер телефона."
   ]
  },
  {
   "cell_type": "code",
   "execution_count": null,
   "metadata": {},
   "outputs": [],
   "source": [
    "myphonebook = Dict(\"Деннис\" => \"+7(977) 53-09-668\", \"Охотники за превидениями\" => \"555-2368\")"
   ]
  },
  {
   "cell_type": "markdown",
   "metadata": {},
   "source": [
    "В данном примере каждые имя и номер являются парой \"ключ\" и \"значение\". Мы можем узнать номер Денниса используяю соответствующий ключ"
   ]
  },
  {
   "cell_type": "code",
   "execution_count": null,
   "metadata": {},
   "outputs": [],
   "source": [
    "myphonebook[\"Деннис\"]"
   ]
  },
  {
   "cell_type": "markdown",
   "metadata": {},
   "source": [
    "Мы можем добавить новую запись в словарь просто путем присваивания"
   ]
  },
  {
   "cell_type": "code",
   "execution_count": null,
   "metadata": {},
   "outputs": [],
   "source": [
    "myphonebook[\"Жди меня\"] = \"8-800-700-84-36\""
   ]
  },
  {
   "cell_type": "markdown",
   "metadata": {},
   "source": [
    "Теперь записная книжка выглядит следующим образом"
   ]
  },
  {
   "cell_type": "code",
   "execution_count": null,
   "metadata": {},
   "outputs": [],
   "source": [
    "myphonebook"
   ]
  },
  {
   "cell_type": "markdown",
   "metadata": {},
   "source": [
    "Удаление элементов осуществляется при помощи функции `pop!`"
   ]
  },
  {
   "cell_type": "code",
   "execution_count": null,
   "metadata": {},
   "outputs": [],
   "source": [
    "pop!(myphonebook, \"Жди меня\")"
   ]
  },
  {
   "cell_type": "code",
   "execution_count": null,
   "metadata": {},
   "outputs": [],
   "source": [
    "myphonebook"
   ]
  },
  {
   "cell_type": "markdown",
   "metadata": {},
   "source": [
    "В отличии от кортежей и массивов, словари не упорядоченны, поэтому мы не можем обращатся к их элементам по индексу"
   ]
  },
  {
   "cell_type": "code",
   "execution_count": null,
   "metadata": {},
   "outputs": [],
   "source": [
    "myphonebook[1]"
   ]
  },
  {
   "cell_type": "markdown",
   "metadata": {},
   "source": [
    "В примере выше **Julia** считает, что вы пытаетесь обратиться к элементу с ключем `1`."
   ]
  },
  {
   "cell_type": "markdown",
   "metadata": {},
   "source": [
    "Для получения списка всех доступных ключей можно использовать функцию ```keys```"
   ]
  },
  {
   "cell_type": "code",
   "execution_count": null,
   "metadata": {},
   "outputs": [],
   "source": [
    "keys(new_dict)"
   ]
  },
  {
   "cell_type": "markdown",
   "metadata": {},
   "source": [
    "## Массивы\n",
    "\n",
    "Как уже говорилось, в отличии от кортежей, массивы могут быть изменены, а в отличии от словарей - данные в массиве упорядочены.<br>\n",
    "Самым простым способо определить массив является перечисление его элементов в квадратных скобках `[ ]`.\n",
    "\n",
    "Синтаксис: <br>\n",
    "```julia\n",
    "[элемент1, элемент2, ...]\n",
    "```\n",
    "\n",
    "К примеру, мы можем создать массив студентов"
   ]
  },
  {
   "cell_type": "code",
   "execution_count": null,
   "metadata": {},
   "outputs": [],
   "source": [
    "students = [\"Иванов\", \"Петров\", \"Васечкин\", \"Сидоров\", \"Солтыков-Щедрин\"]"
   ]
  },
  {
   "cell_type": "markdown",
   "metadata": {},
   "source": [
    "После того, как массив создан, мы моем получить доступ к его элемента по их индексу. Индексация в **Julia** начинается с 1."
   ]
  },
  {
   "cell_type": "code",
   "execution_count": null,
   "metadata": {},
   "outputs": [],
   "source": [
    "students[3]"
   ]
  },
  {
   "cell_type": "markdown",
   "metadata": {},
   "source": [
    "Таким же образом, мы можем менять его элементы"
   ]
  },
  {
   "cell_type": "code",
   "execution_count": null,
   "metadata": {},
   "outputs": [],
   "source": [
    "students[3] = \"Соломоненко\""
   ]
  },
  {
   "cell_type": "code",
   "execution_count": null,
   "metadata": {},
   "outputs": [],
   "source": [
    "students"
   ]
  },
  {
   "cell_type": "markdown",
   "metadata": {},
   "source": [
    "Так же, имеется несколько функции определяющих массив заданной формы:"
   ]
  },
  {
   "cell_type": "code",
   "execution_count": null,
   "metadata": {},
   "outputs": [],
   "source": [
    "ones_ = ones(4)"
   ]
  },
  {
   "cell_type": "code",
   "execution_count": null,
   "metadata": {},
   "outputs": [],
   "source": [
    "zeros_ = zeros(4,2)"
   ]
  },
  {
   "cell_type": "code",
   "execution_count": null,
   "metadata": {},
   "outputs": [],
   "source": [
    "rands_ = rand(2,3,1)"
   ]
  },
  {
   "cell_type": "markdown",
   "metadata": {},
   "source": [
    "Эти функции работают схожим образом - они возвращают массив заданного размера, состоящий из единиц, нулей или случайных чисел.<br>\n",
    "Как можно было заметить, тип у них отличается: в первом случае это `Vector{Float64}`, во втором `Matrix{Float64}` и в третьем - `Array{Float64,3}`. На самом деле `Vector{T}` и `Matrix{T}` - это всего лишь псевдонимы для `Array{T,1}` и `Array{T,2}`, где `T` - это тип компонентов массива."
   ]
  },
  {
   "cell_type": "markdown",
   "metadata": {},
   "source": [
    "В **Julia** полезно заранее объявлять массив - это позволяет оптимизировать вычисления. Для этого существует универсальный конструктор массивов "
   ]
  },
  {
   "cell_type": "code",
   "execution_count": null,
   "metadata": {},
   "outputs": [],
   "source": [
    "arr_1 = Array{Int64}(undef, 3,5)"
   ]
  },
  {
   "cell_type": "markdown",
   "metadata": {},
   "source": [
    "Здесь `undef` - ключевое слово, которое означает, что массив элементы массива не иницализируются при ео объявлении. Сразу после объявления в них будет находиться \"*мусор*\" из памяти.<br>\n",
    "В объявленный таким образом массив уже не получится занести элемент другой типа:"
   ]
  },
  {
   "cell_type": "code",
   "execution_count": null,
   "metadata": {},
   "outputs": [],
   "source": [
    "arr_1[1,1] = 3.5"
   ]
  },
  {
   "cell_type": "markdown",
   "metadata": {},
   "source": [
    "В случае, если заранее не известно, какого типа элементы могут храниться в массиве, в качестве типа можно указать `Any`"
   ]
  },
  {
   "cell_type": "code",
   "execution_count": null,
   "metadata": {},
   "outputs": [],
   "source": [
    "arr_2 = Array{Any}(undef, 4,4)"
   ]
  },
  {
   "cell_type": "code",
   "execution_count": null,
   "metadata": {},
   "outputs": [],
   "source": [
    "fibonacci = Array{Float64}([1, 1, 2, 3, 5, 8, 13])"
   ]
  },
  {
   "cell_type": "markdown",
   "metadata": {},
   "source": [
    "При создании массива с содержимым разного типа, ему будет автоматически присвоен тип `Array{Any}`"
   ]
  },
  {
   "cell_type": "code",
   "execution_count": null,
   "metadata": {},
   "outputs": [],
   "source": [
    "mixture = [1, 1, 2, 3, \"Ted\", \"Robyn\"]"
   ]
  },
  {
   "cell_type": "markdown",
   "metadata": {},
   "source": [
    "Для редактирования массивов так же имеются функции `push!` и `pop!`. `push!` добавляет элементы в конец массива, а `pop!` удаляет последний элемент из массива."
   ]
  },
  {
   "cell_type": "code",
   "execution_count": null,
   "metadata": {},
   "outputs": [],
   "source": [
    "push!(fibonacci, 21)"
   ]
  },
  {
   "cell_type": "code",
   "execution_count": null,
   "metadata": {},
   "outputs": [],
   "source": [
    "pop!(fibonacci)"
   ]
  },
  {
   "cell_type": "code",
   "execution_count": null,
   "metadata": {},
   "outputs": [],
   "source": [
    "fibonacci"
   ]
  },
  {
   "cell_type": "markdown",
   "metadata": {},
   "source": [
    "Поскольку массив - это тоже тип данных, мы можем определять массив массивов:"
   ]
  },
  {
   "cell_type": "code",
   "execution_count": null,
   "metadata": {},
   "outputs": [],
   "source": [
    "favorites = [[\"koobideh\", \"chocolate\", \"eggs\"],[\"penguins\", \"cats\", \"sugargliders\"]]"
   ]
  },
  {
   "cell_type": "markdown",
   "metadata": {},
   "source": [
    "При этом, они не обяаны быть совместимй размерности:"
   ]
  },
  {
   "cell_type": "code",
   "execution_count": null,
   "metadata": {},
   "outputs": [],
   "source": [
    "numbers = [[1, 2, 3], [4, 5], [6, 7, 8, 9]]"
   ]
  },
  {
   "cell_type": "markdown",
   "metadata": {},
   "source": [
    "Однако не следует путать их с двумерными массивами (или матрицами) - доступ к элементам осуществляется по разному"
   ]
  },
  {
   "cell_type": "code",
   "execution_count": null,
   "metadata": {},
   "outputs": [],
   "source": [
    "numbers[1][2]"
   ]
  },
  {
   "cell_type": "code",
   "execution_count": null,
   "metadata": {},
   "outputs": [],
   "source": [
    "numbers[1,2]"
   ]
  },
  {
   "cell_type": "code",
   "execution_count": null,
   "metadata": {},
   "outputs": [],
   "source": [
    "zeros_[2,2]"
   ]
  },
  {
   "cell_type": "code",
   "execution_count": null,
   "metadata": {},
   "outputs": [],
   "source": [
    "zeros_[2][2]"
   ]
  },
  {
   "cell_type": "markdown",
   "metadata": {},
   "source": [
    "**Будте остороны при копировании массивов!**"
   ]
  },
  {
   "cell_type": "code",
   "execution_count": null,
   "metadata": {},
   "outputs": [],
   "source": [
    "fibonacci"
   ]
  },
  {
   "cell_type": "code",
   "execution_count": null,
   "metadata": {},
   "outputs": [],
   "source": [
    "somenumbers = fibonacci"
   ]
  },
  {
   "cell_type": "code",
   "execution_count": null,
   "metadata": {},
   "outputs": [],
   "source": [
    "somenumbers[1] = 404"
   ]
  },
  {
   "cell_type": "code",
   "execution_count": null,
   "metadata": {},
   "outputs": [],
   "source": [
    "fibonacci"
   ]
  },
  {
   "cell_type": "markdown",
   "metadata": {},
   "source": [
    "Редактирование `somenumbers` привело к изменению переменной `fibonacci`!\n",
    "\n",
    "В данном примере мы, в де1ствительности, не копировали переменную `fibonacci`. Мы просто создали новую ссылку для доступа к объекту `fibonacci`.\n",
    "\n",
    "Если нам необходимо создать компию массива `fibonacci`, необходимо использовать функцию `copy`."
   ]
  },
  {
   "cell_type": "code",
   "execution_count": null,
   "metadata": {},
   "outputs": [],
   "source": [
    "# Для начала, восcтановим fibonacci\n",
    "fibonacci[1] = 1\n",
    "fibonacci"
   ]
  },
  {
   "cell_type": "code",
   "execution_count": null,
   "metadata": {},
   "outputs": [],
   "source": [
    "somemorenumbers = copy(fibonacci)"
   ]
  },
  {
   "cell_type": "code",
   "execution_count": null,
   "metadata": {},
   "outputs": [],
   "source": [
    "somemorenumbers[1] = 404"
   ]
  },
  {
   "cell_type": "code",
   "execution_count": null,
   "metadata": {},
   "outputs": [],
   "source": [
    "fibonacci"
   ]
  },
  {
   "cell_type": "markdown",
   "metadata": {},
   "source": [
    "### Упражнения\n",
    "\n",
    "#### 3.1 \n",
    "Создайте массив `a_ray` с элементами `[1, 2, 3]`"
   ]
  },
  {
   "cell_type": "code",
   "execution_count": null,
   "metadata": {},
   "outputs": [],
   "source": [
    "a_ray = Array{Int64}([1, 2, 3])\n",
    "push!(a_ray, 4)"
   ]
  },
  {
   "cell_type": "markdown",
   "metadata": {},
   "source": [
    "Добавьте `4` в конец массива."
   ]
  },
  {
   "cell_type": "code",
   "execution_count": null,
   "metadata": {},
   "outputs": [],
   "source": [
    "push!(a_ray, 4)"
   ]
  },
  {
   "cell_type": "code",
   "execution_count": null,
   "metadata": {},
   "outputs": [],
   "source": [
    "@assert a_ray == [1, 2, 3, 4]"
   ]
  },
  {
   "cell_type": "markdown",
   "metadata": {},
   "source": [
    "и удалите ее"
   ]
  },
  {
   "cell_type": "code",
   "execution_count": null,
   "metadata": {},
   "outputs": [],
   "source": [
    "pop!(a_ray)"
   ]
  },
  {
   "cell_type": "code",
   "execution_count": null,
   "metadata": {
    "deletable": false,
    "editable": false,
    "hide_input": true,
    "nbgrader": {
     "checksum": "8dde7e020bc07c5762194abf5c72285c",
     "grade": true,
     "grade_id": "cell-a6b20b78fbfeb449",
     "locked": true,
     "points": 1,
     "schema_version": 1,
     "solution": false
    }
   },
   "outputs": [],
   "source": [
    "@assert a_ray == [1, 2, 3]"
   ]
  },
  {
   "cell_type": "markdown",
   "metadata": {},
   "source": [
    "#### 3.2 \n",
    "Добавьте в записную книжку `myphonebook` телефон пожарной `101`?"
   ]
  },
  {
   "cell_type": "code",
   "execution_count": null,
   "metadata": {},
   "outputs": [],
   "source": [
    "myphonebook[\"Пожарная\"] = \"101\""
   ]
  },
  {
   "cell_type": "markdown",
   "metadata": {},
   "source": [
    "#### 3.3 \n",
    "Создайте переменную `flexible_phonebook` , в которой могли бы хранится номера как в строковом, так и в численном виде, и добавьте туда номера *Денниса* и *Охотников за превидениями*.\n",
    "\n"
   ]
  },
  {
   "cell_type": "code",
   "execution_count": null,
   "metadata": {},
   "outputs": [],
   "source": [
    "flexible_phonebook = Dict{String, Any}(\"Dennis\" => \"1\", \"Kev\" => \"2\")"
   ]
  },
  {
   "cell_type": "code",
   "execution_count": null,
   "metadata": {},
   "outputs": [],
   "source": [
    "@assert typeof(flexible_phonebook) == Dict{String, Any}"
   ]
  }
 ],
 "metadata": {
  "celltoolbar": "Необработанный формат ячейки",
  "kernelspec": {
   "display_name": "Julia 1.6.3",
   "language": "julia",
   "name": "julia-1.6"
  },
  "language_info": {
   "file_extension": ".jl",
   "mimetype": "application/julia",
   "name": "julia",
   "version": "1.7.2"
  }
 },
 "nbformat": 4,
 "nbformat_minor": 4
}
