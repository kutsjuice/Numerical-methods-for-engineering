{
 "cells": [
  {
   "cell_type": "markdown",
   "metadata": {},
   "source": [
    "# QR разложение"
   ]
  },
  {
   "cell_type": "markdown",
   "metadata": {},
   "source": [
    "Следующим разложением, получившим широкое распространение в прикладной вычислительной математике является QR разложение.\n",
    "QR разложение позволяет представить матрицу $\\mathbf{A}$ в виде произведения ортогональной матрицы $\\mathbf{Q}$ и верхнетреугольной матрицы $\\mathbf{R}$\n",
    "\\begin{equation*}\n",
    "\\mathbf{A} = \\mathbf{QR}\n",
    "\\end{equation*}\n",
    "Данное разложение тесно связано с процедурой ортогонализации, позволяющей получить из некоторого произвольного базиса ортонормированный.\n",
    "Действительно, давайте представим матрицу $\\mathbf{A}$ в виде набора из $N$ векторов \n",
    "\n",
    "\\begin{equation*}\n",
    "\\mathbf{A} = \\left[\n",
    "\\begin{matrix}\n",
    "a_{1} & a_{2} & a_{3} & \\dots & a_{N}\\\\ \n",
    "\\end{matrix}\n",
    "\\right]\n",
    "\\end{equation*}\n",
    "где $a_{i} \\in \\R^N$\n",
    "\n",
    "Из даного набора векторов может быть легко получен ортнормированный базис **Q**\n",
    "\n",
    "\\begin{equation*}\n",
    "Q = \\left[\n",
    "\\begin{matrix}\n",
    "q_1 & q_2 & q_3 & \\dots & q_N\\\\ \n",
    "\\end{matrix}\n",
    "\\right]\n",
    "\\end{equation*}\n",
    "\n",
    "Из курса линейной алгебры нам известно, что два вектора называются ортоногональными если их скалярное произведение равно нулю. Соответственно ддля набора векторов **Q** справедливо будет\n",
    "$$\n",
    "q_{i}^T q_{j} = \n",
    "\\begin{cases}\n",
    "1, & \\text{при $i=j$;}\\\\\n",
    "0, & \\text{при $i\\not=j$.}\n",
    "\\end{cases}\n",
    "$$\n"
   ]
  },
  {
   "cell_type": "code",
   "execution_count": null,
   "metadata": {},
   "outputs": [],
   "source": []
  },
  {
   "cell_type": "code",
   "execution_count": null,
   "metadata": {},
   "outputs": [],
   "source": []
  }
 ],
 "metadata": {
  "kernelspec": {
   "display_name": "Julia 1.9.2",
   "language": "julia",
   "name": "julia-1.9"
  },
  "language_info": {
   "file_extension": ".jl",
   "mimetype": "application/julia",
   "name": "julia",
   "version": "1.9.2"
  }
 },
 "nbformat": 4,
 "nbformat_minor": 4
}