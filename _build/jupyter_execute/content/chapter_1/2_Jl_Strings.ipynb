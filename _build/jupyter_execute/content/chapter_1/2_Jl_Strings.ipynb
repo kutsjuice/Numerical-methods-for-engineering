{
 "cells": [
  {
   "cell_type": "markdown",
   "id": "818ddaa3",
   "metadata": {},
   "source": [
    "# Объявление строк"
   ]
  },
  {
   "cell_type": "markdown",
   "id": "fe92f5af",
   "metadata": {},
   "source": [
    "Объявление строк в **Julia** осуществляется путем заключения в кавычки ```\"bla\"``` или ```\"\"\"blabla\"\"\"```"
   ]
  },
  {
   "cell_type": "code",
   "execution_count": null,
   "id": "fa1835f2",
   "metadata": {},
   "outputs": [],
   "source": [
    "s1 = \"Это простая строка\""
   ]
  },
  {
   "cell_type": "code",
   "execution_count": null,
   "id": "04119de1",
   "metadata": {},
   "outputs": [],
   "source": [
    "s2 = \"\"\"Это тоже строка\"\"\"\n",
    "typeof(s2)"
   ]
  },
  {
   "cell_type": "markdown",
   "id": "4d33e8a2",
   "metadata": {},
   "source": [
    "Между ними есть есть несколько различий. Одно из них заключается в использовании кавычечек внутри таких строк, а другое в переносах строк"
   ]
  },
  {
   "cell_type": "code",
   "execution_count": null,
   "id": "a9feb811",
   "metadata": {},
   "outputs": [],
   "source": [
    "\"Здесь мы получим \"ошибку\", поскольку так нельзя делать\""
   ]
  },
  {
   "cell_type": "code",
   "execution_count": null,
   "id": "be8ea7ac",
   "metadata": {},
   "outputs": [],
   "source": [
    "println(\"\"\"А в данной строке\n",
    "\n",
    "\"ошибок\" нет\"\"\");"
   ]
  },
  {
   "cell_type": "markdown",
   "id": "ba0f54d7",
   "metadata": {},
   "source": [
    "Одинарные кавычки служат для определения символа ```Char```"
   ]
  },
  {
   "cell_type": "code",
   "execution_count": null,
   "id": "c6b807f6",
   "metadata": {},
   "outputs": [],
   "source": [
    "typeof('a')"
   ]
  },
  {
   "cell_type": "code",
   "execution_count": null,
   "id": "176e15c5",
   "metadata": {},
   "outputs": [],
   "source": [
    "'fjsnjfdsf'"
   ]
  },
  {
   "cell_type": "markdown",
   "id": "d552aeb4",
   "metadata": {},
   "source": [
    "# Интерполяция строк"
   ]
  },
  {
   "cell_type": "markdown",
   "id": "f607464b",
   "metadata": {},
   "source": [
    "Под интерполяцией строк имеется ввиду выполнения участков кода внутри строки. Интерполяция в **Julia** осуществляется при помощи ```$```. Таким образом можно выводить некоторые персонифицированные данные"
   ]
  },
  {
   "cell_type": "code",
   "execution_count": null,
   "id": "a8f8ea21",
   "metadata": {},
   "outputs": [],
   "source": [
    "group = \"ИБМ3-12(м)\";\n",
    "students_num = 6;\n",
    "\n",
    "println(\"В группе $group учится $students_num человек. Всего в аудитории находится $(students_num+2) человек.\")"
   ]
  },
  {
   "cell_type": "markdown",
   "id": "8aa6d919",
   "metadata": {},
   "source": [
    "# Объединение строк"
   ]
  },
  {
   "cell_type": "markdown",
   "id": "a6ebe877",
   "metadata": {},
   "source": [
    "Первый способ - использование функции ```string()```. Функция ```string()``` преобразует все аргументы в строку, объединяя их при необходимости "
   ]
  },
  {
   "cell_type": "code",
   "execution_count": null,
   "id": "e764c2cc",
   "metadata": {},
   "outputs": [],
   "source": [
    "string( \"Cколько нужно орехов,\",\" чтобы получилась куча?\")"
   ]
  },
  {
   "cell_type": "code",
   "execution_count": null,
   "id": "1a76510a",
   "metadata": {},
   "outputs": [],
   "source": [
    "string(\"Не знаю, но \", 2, \" ореха - это не куча!\")"
   ]
  },
  {
   "cell_type": "markdown",
   "id": "7214adad",
   "metadata": {},
   "source": [
    "Так же можно использовать оператор ```*``` для объединения строк"
   ]
  },
  {
   "cell_type": "code",
   "execution_count": null,
   "id": "0b1d1a9c",
   "metadata": {},
   "outputs": [],
   "source": [
    "s1 = \"Cколько нужно орехов,\";\n",
    "s2 = \" чтобы получилась куча?\"\n",
    "s1*s2"
   ]
  },
  {
   "cell_type": "markdown",
   "id": "d13ca6b7",
   "metadata": {},
   "source": [
    "Так же можно воспользоватся интерполяцией строк"
   ]
  },
  {
   "cell_type": "code",
   "execution_count": null,
   "id": "61f9c40a",
   "metadata": {},
   "outputs": [],
   "source": [
    "\"$s1$s2\""
   ]
  },
  {
   "cell_type": "markdown",
   "id": "bede33c8",
   "metadata": {},
   "source": [
    "Кроме того, для строковых переменных определена операция ```^n```, которая копирует строку *n* раз"
   ]
  },
  {
   "cell_type": "code",
   "execution_count": null,
   "id": "b86df339",
   "metadata": {},
   "outputs": [],
   "source": [
    "s1*s2^3"
   ]
  },
  {
   "cell_type": "code",
   "execution_count": null,
   "id": "1ec870b4",
   "metadata": {},
   "outputs": [],
   "source": [
    "s3 = \"Ау!\"\n",
    "println(\"\\\"$s3\\\" — крикнул Юра. \\\"$(s3^3)\\\" — отозвалось из лесной дали.\");"
   ]
  }
 ],
 "metadata": {
  "kernelspec": {
   "display_name": "Julia 1.7.2",
   "language": "julia",
   "name": "julia-1.7"
  },
  "language_info": {
   "file_extension": ".jl",
   "mimetype": "application/julia",
   "name": "julia",
   "version": "1.7.2"
  }
 },
 "nbformat": 4,
 "nbformat_minor": 5
}