{
 "cells": [
  {
   "cell_type": "markdown",
   "id": "5c04b6d2",
   "metadata": {},
   "source": [
    "# Объявление строк"
   ]
  },
  {
   "cell_type": "markdown",
   "id": "a0410af0",
   "metadata": {},
   "source": [
    "Объявление строк в **Julia** осуществляется путем заключения в кавычки ```\"bla\"``` или ```\"\"\"blabla\"\"\"```"
   ]
  },
  {
   "cell_type": "code",
   "execution_count": null,
   "id": "7734f7c7",
   "metadata": {},
   "outputs": [],
   "source": [
    "s1 = \"Это простая строка\""
   ]
  },
  {
   "cell_type": "code",
   "execution_count": null,
   "id": "8a561680",
   "metadata": {},
   "outputs": [],
   "source": [
    "s2 = \"\"\"Это тоже строка\"\"\"\n",
    "typeof(s2)"
   ]
  },
  {
   "cell_type": "markdown",
   "id": "60ff0fba",
   "metadata": {},
   "source": [
    "Между ними есть есть несколько различий. Одно из них заключается в использовании кавычечек внутри таких строк, а другое в переносах строк"
   ]
  },
  {
   "cell_type": "code",
   "execution_count": null,
   "id": "600c0003",
   "metadata": {},
   "outputs": [],
   "source": [
    "\"Здесь мы получим \"ошибку\", поскольку так нельзя делать\""
   ]
  },
  {
   "cell_type": "code",
   "execution_count": null,
   "id": "c13b6546",
   "metadata": {},
   "outputs": [],
   "source": [
    "println(\"\"\"А в данной строке\n",
    "\n",
    "\"ошибок\" нет\"\"\");"
   ]
  },
  {
   "cell_type": "markdown",
   "id": "aa3abbf6",
   "metadata": {},
   "source": [
    "Одинарные кавычки служат для определения символа ```Char```"
   ]
  },
  {
   "cell_type": "code",
   "execution_count": null,
   "id": "fa9204f0",
   "metadata": {},
   "outputs": [],
   "source": [
    "typeof('a')"
   ]
  },
  {
   "cell_type": "code",
   "execution_count": null,
   "id": "c146b9d9",
   "metadata": {},
   "outputs": [],
   "source": [
    "'fjsnjfdsf'"
   ]
  },
  {
   "cell_type": "markdown",
   "id": "f0ea9d8d",
   "metadata": {},
   "source": [
    "# Интерполяция строк"
   ]
  },
  {
   "cell_type": "markdown",
   "id": "3a455326",
   "metadata": {},
   "source": [
    "Под интерполяцией строк имеется ввиду выполнения участков кода внутри строки. Интерполяция в **Julia** осуществляется при помощи ```$```. Таким образом можно выводить некоторые персонифицированные данные"
   ]
  },
  {
   "cell_type": "code",
   "execution_count": null,
   "id": "ae657836",
   "metadata": {},
   "outputs": [],
   "source": [
    "group = \"ИБМ3-12(м)\";\n",
    "students_num = 6;\n",
    "\n",
    "println(\"В группе $group учится $students_num человек. Всего в аудитории находится $(students_num+2) человек.\")"
   ]
  },
  {
   "cell_type": "markdown",
   "id": "c0b80509",
   "metadata": {},
   "source": [
    "# Объединение строк"
   ]
  },
  {
   "cell_type": "markdown",
   "id": "f342d2f8",
   "metadata": {},
   "source": [
    "Первый способ - использование функции ```string()```. Функция ```string()``` преобразует все аргументы в строку, объединяя их при необходимости "
   ]
  },
  {
   "cell_type": "code",
   "execution_count": null,
   "id": "1355ae18",
   "metadata": {},
   "outputs": [],
   "source": [
    "string( \"Cколько нужно орехов,\",\" чтобы получилась куча?\")"
   ]
  },
  {
   "cell_type": "code",
   "execution_count": null,
   "id": "77e429a7",
   "metadata": {},
   "outputs": [],
   "source": [
    "string(\"Не знаю, но \", 2, \" ореха - это не куча!\")"
   ]
  },
  {
   "cell_type": "markdown",
   "id": "e355cd41",
   "metadata": {},
   "source": [
    "Так же можно использовать оператор ```*``` для объединения строк"
   ]
  },
  {
   "cell_type": "code",
   "execution_count": null,
   "id": "5aff6e3e",
   "metadata": {},
   "outputs": [],
   "source": [
    "s1 = \"Cколько нужно орехов,\";\n",
    "s2 = \" чтобы получилась куча?\"\n",
    "s1*s2"
   ]
  },
  {
   "cell_type": "markdown",
   "id": "51debfd2",
   "metadata": {},
   "source": [
    "Так же можно воспользоватся интерполяцией строк"
   ]
  },
  {
   "cell_type": "code",
   "execution_count": null,
   "id": "7c62bcf8",
   "metadata": {},
   "outputs": [],
   "source": [
    "\"$s1$s2\""
   ]
  },
  {
   "cell_type": "markdown",
   "id": "a66bac42",
   "metadata": {},
   "source": [
    "Кроме того, для строковых переменных определена операция ```^n```, которая копирует строку *n* раз"
   ]
  },
  {
   "cell_type": "code",
   "execution_count": null,
   "id": "6547ac55",
   "metadata": {},
   "outputs": [],
   "source": [
    "s1*s2^3"
   ]
  },
  {
   "cell_type": "code",
   "execution_count": null,
   "id": "87d1e437",
   "metadata": {},
   "outputs": [],
   "source": [
    "s3 = \"Ау!\"\n",
    "println(\"\\\"$s3\\\" — крикнул Юра. \\\"$(s3^3)\\\" — отозвалось из лесной дали.\");"
   ]
  }
 ],
 "metadata": {
  "kernelspec": {
   "display_name": "Julia 1.7.2",
   "language": "julia",
   "name": "julia-1.7"
  },
  "language_info": {
   "file_extension": ".jl",
   "mimetype": "application/julia",
   "name": "julia",
   "version": "1.7.2"
  }
 },
 "nbformat": 4,
 "nbformat_minor": 5
}