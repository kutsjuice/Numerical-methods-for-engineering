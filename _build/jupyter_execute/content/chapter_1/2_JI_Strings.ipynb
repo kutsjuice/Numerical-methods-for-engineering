{
 "cells": [
  {
   "cell_type": "markdown",
   "id": "2596d6d7",
   "metadata": {},
   "source": [
    "# Объявление строк"
   ]
  },
  {
   "cell_type": "markdown",
   "id": "3f31285c",
   "metadata": {},
   "source": [
    "Объявление строк в **Julia** осуществляется путем заключения в кавычки ```\"bla\"``` или ```\"\"\"blabla\"\"\"```"
   ]
  },
  {
   "cell_type": "code",
   "execution_count": null,
   "id": "d6fa21dd",
   "metadata": {},
   "outputs": [],
   "source": [
    "s1 = \"Это простая строка\""
   ]
  },
  {
   "cell_type": "code",
   "execution_count": null,
   "id": "2d0b4dc4",
   "metadata": {},
   "outputs": [],
   "source": [
    "s2 = \"\"\"Это тоже строка\"\"\"\n",
    "typeof(s2)"
   ]
  },
  {
   "cell_type": "markdown",
   "id": "4c7c26c2",
   "metadata": {},
   "source": [
    "Между ними есть есть несколько различий. Одно из них заключается в использовании кавычечек внутри таких строк, а другое в переносах строк"
   ]
  },
  {
   "cell_type": "code",
   "execution_count": null,
   "id": "bdf63717",
   "metadata": {},
   "outputs": [],
   "source": [
    "\"Здесь мы получим \"ошибку\", поскольку так нельзя делать\""
   ]
  },
  {
   "cell_type": "code",
   "execution_count": null,
   "id": "e4dfa1a0",
   "metadata": {},
   "outputs": [],
   "source": [
    "println(\"\"\"А в данной строке\n",
    "\n",
    "\"ошибок\" нет\"\"\");"
   ]
  },
  {
   "cell_type": "markdown",
   "id": "cd92a063",
   "metadata": {},
   "source": [
    "Одинарные кавычки служат для определения символа ```Char```"
   ]
  },
  {
   "cell_type": "code",
   "execution_count": null,
   "id": "31ff3830",
   "metadata": {},
   "outputs": [],
   "source": [
    "typeof('a')"
   ]
  },
  {
   "cell_type": "code",
   "execution_count": null,
   "id": "18c0577f",
   "metadata": {},
   "outputs": [],
   "source": [
    "'fjsnjfdsf'"
   ]
  },
  {
   "cell_type": "markdown",
   "id": "8e3a7bcd",
   "metadata": {},
   "source": [
    "# Интерполяция строк"
   ]
  },
  {
   "cell_type": "markdown",
   "id": "8de8f90b",
   "metadata": {},
   "source": [
    "Под интерполяцией строк имеется ввиду выполнения участков кода внутри строки. Интерполяция в **Julia** осуществляется при помощи ```$```. Таким образом можно выводить некоторые персонифицированные данные"
   ]
  },
  {
   "cell_type": "code",
   "execution_count": null,
   "id": "7eca65e8",
   "metadata": {},
   "outputs": [],
   "source": [
    "group = \"ИБМ3-12(м)\";\n",
    "students_num = 6;\n",
    "\n",
    "println(\"В группе $group учится $students_num человек. Всего в аудитории находится $(students_num+2) человек.\")"
   ]
  },
  {
   "cell_type": "markdown",
   "id": "782e6a88",
   "metadata": {},
   "source": [
    "# Объединение строк"
   ]
  },
  {
   "cell_type": "markdown",
   "id": "abd71c6e",
   "metadata": {},
   "source": [
    "Первый способ - использование функции ```string()```. Функция ```string()``` преобразует все аргументы в строку, объединяя их при необходимости "
   ]
  },
  {
   "cell_type": "code",
   "execution_count": null,
   "id": "ad6eb08e",
   "metadata": {},
   "outputs": [],
   "source": [
    "string( \"Cколько нужно орехов,\",\" чтобы получилась куча?\")"
   ]
  },
  {
   "cell_type": "code",
   "execution_count": null,
   "id": "8eeafab2",
   "metadata": {},
   "outputs": [],
   "source": [
    "string(\"Не знаю, но \", 2, \" ореха - это не куча!\")"
   ]
  },
  {
   "cell_type": "markdown",
   "id": "e1e1b876",
   "metadata": {},
   "source": [
    "Так же можно использовать оператор ```*``` для объединения строк"
   ]
  },
  {
   "cell_type": "code",
   "execution_count": null,
   "id": "a56ee701",
   "metadata": {},
   "outputs": [],
   "source": [
    "s1 = \"Cколько нужно орехов,\";\n",
    "s2 = \" чтобы получилась куча?\"\n",
    "s1*s2"
   ]
  },
  {
   "cell_type": "markdown",
   "id": "9980df10",
   "metadata": {},
   "source": [
    "Так же можно воспользоватся интерполяцией строк"
   ]
  },
  {
   "cell_type": "code",
   "execution_count": null,
   "id": "89179f1b",
   "metadata": {},
   "outputs": [],
   "source": [
    "\"$s1$s2\""
   ]
  },
  {
   "cell_type": "markdown",
   "id": "2705bfb7",
   "metadata": {},
   "source": [
    "Кроме того, для строковых переменных определена операция ```^n```, которая копирует строку *n* раз"
   ]
  },
  {
   "cell_type": "code",
   "execution_count": null,
   "id": "200541c1",
   "metadata": {},
   "outputs": [],
   "source": [
    "s1*s2^3"
   ]
  },
  {
   "cell_type": "code",
   "execution_count": null,
   "id": "f5dc1775",
   "metadata": {},
   "outputs": [],
   "source": [
    "s3 = \"Ау!\"\n",
    "println(\"\\\"$s3\\\" — крикнул Юра. \\\"$(s3^3)\\\" — отозвалось из лесной дали.\");"
   ]
  }
 ],
 "metadata": {
  "kernelspec": {
   "display_name": "Julia 1.7.2",
   "language": "julia",
   "name": "julia-1.7"
  },
  "language_info": {
   "file_extension": ".jl",
   "mimetype": "application/julia",
   "name": "julia",
   "version": "1.7.2"
  }
 },
 "nbformat": 4,
 "nbformat_minor": 5
}